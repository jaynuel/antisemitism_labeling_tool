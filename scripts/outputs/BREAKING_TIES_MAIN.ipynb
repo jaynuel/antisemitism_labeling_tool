{
 "cells": [
  {
   "attachments": {
    "yu%20logo.png": {
     "image/png": "[encoded data removed]"
    }
   },
   "cell_type": "markdown",
   "id": "ff29e814",
   "metadata": {},
   "source": [
    "![yu%20logo.png](attachment:yu%20logo.png)\n",
    "\n",
    "# Jesus Olivera\n",
    "## Yeshiva University, DAV\n",
    "## Independent Study: Data Labeling Tool \n",
    "\n",
    "Consider these tips for working with this notebook:\n",
    "- Notebook code serves as a logical foundation for the development of this project.\n",
    "- This pipeline is optimized for the original framework and it will have to be updated to reflect the actual enviroment in which it will be deployed.\n",
    "- Before modifying the pipeline or trying to re-fit the pipeline, consider evaluating system integration and tools setup."
   ]
  },
  {
   "cell_type": "markdown",
   "id": "5d68a974",
   "metadata": {},
   "source": [
    "## Notebook Content\n",
    "\n",
    "This notebook contains a logical framework for braking ties by applying a machine learning model to perform a binary voting forecast.   \n",
    "\n",
    "Familiarity with data engineering (DE) and data science (DS) is required."
   ]
  },
  {
   "cell_type": "markdown",
   "id": "a1ff5709",
   "metadata": {},
   "source": [
    "## Notebook Goals \n",
    "\n",
    "- Pipeline Definition\n",
    "- Pipeline Integration\n",
    "- Pipeline Evaluation"
   ]
  },
  {
   "cell_type": "markdown",
   "id": "27d12ebd",
   "metadata": {},
   "source": [
    "## Step 1: Importing libraries"
   ]
  },
  {
   "cell_type": "code",
   "execution_count": 1,
   "id": "dafdea2c",
   "metadata": {},
   "outputs": [],
   "source": [
    "# Importing Libraries\n",
    "import pandas as pd\n",
    "import numpy as np\n",
    "import matplotlib.pyplot as plt\n",
    "import seaborn as sns\n",
    "import sklearn\n",
    "# Importing Random Forest Model\n",
    "from sklearn.ensemble import RandomForestClassifier\n",
    "from sklearn import metrics\n",
    "# Import train_test_split function\n",
    "from sklearn.model_selection import train_test_split"
   ]
  },
  {
   "cell_type": "markdown",
   "id": "78497344",
   "metadata": {},
   "source": [
    "# Method 1 "
   ]
  },
  {
   "cell_type": "code",
   "execution_count": 52,
   "id": "3718b0a4",
   "metadata": {},
   "outputs": [
    {
     "data": {
      "text/html": [
       "<div>\n",
       "<style scoped>\n",
       "    .dataframe tbody tr th:only-of-type {\n",
       "        vertical-align: middle;\n",
       "    }\n",
       "\n",
       "    .dataframe tbody tr th {\n",
       "        vertical-align: top;\n",
       "    }\n",
       "\n",
       "    .dataframe thead th {\n",
       "        text-align: right;\n",
       "    }\n",
       "</style>\n",
       "<table border=\"1\" class=\"dataframe\">\n",
       "  <thead>\n",
       "    <tr style=\"text-align: right;\">\n",
       "      <th></th>\n",
       "      <th>id</th>\n",
       "      <th>created_username</th>\n",
       "      <th>label</th>\n",
       "      <th>created_ago</th>\n",
       "      <th>task</th>\n",
       "      <th>data</th>\n",
       "      <th>meta</th>\n",
       "      <th>created_at</th>\n",
       "      <th>updated_at</th>\n",
       "      <th>is labeled</th>\n",
       "      <th>overlap</th>\n",
       "      <th>project</th>\n",
       "      <th>file_upload</th>\n",
       "      <th>completed_by</th>\n",
       "      <th>result</th>\n",
       "      <th>was_cancelled</th>\n",
       "      <th>ground_true</th>\n",
       "      <th>parent_prediction</th>\n",
       "    </tr>\n",
       "  </thead>\n",
       "  <tbody>\n",
       "    <tr>\n",
       "      <th>0</th>\n",
       "      <td>1</td>\n",
       "      <td>user 1</td>\n",
       "      <td>0</td>\n",
       "      <td>0.849339</td>\n",
       "      <td>1</td>\n",
       "      <td>url1</td>\n",
       "      <td>NaN</td>\n",
       "      <td>2:59:34</td>\n",
       "      <td>9:08:17</td>\n",
       "      <td>False</td>\n",
       "      <td>1</td>\n",
       "      <td>1</td>\n",
       "      <td>NaN</td>\n",
       "      <td>1</td>\n",
       "      <td>NaN</td>\n",
       "      <td>True</td>\n",
       "      <td>False</td>\n",
       "      <td>NaN</td>\n",
       "    </tr>\n",
       "    <tr>\n",
       "      <th>1</th>\n",
       "      <td>2</td>\n",
       "      <td>user 2</td>\n",
       "      <td>-1</td>\n",
       "      <td>3.699334</td>\n",
       "      <td>2</td>\n",
       "      <td>url2</td>\n",
       "      <td>NaN</td>\n",
       "      <td>15:57:26</td>\n",
       "      <td>5:32:13</td>\n",
       "      <td>False</td>\n",
       "      <td>1</td>\n",
       "      <td>1</td>\n",
       "      <td>NaN</td>\n",
       "      <td>2</td>\n",
       "      <td>NaN</td>\n",
       "      <td>True</td>\n",
       "      <td>False</td>\n",
       "      <td>NaN</td>\n",
       "    </tr>\n",
       "    <tr>\n",
       "      <th>2</th>\n",
       "      <td>3</td>\n",
       "      <td>user 3</td>\n",
       "      <td>-1</td>\n",
       "      <td>4.648402</td>\n",
       "      <td>1</td>\n",
       "      <td>url3</td>\n",
       "      <td>NaN</td>\n",
       "      <td>21:33:25</td>\n",
       "      <td>19:54:42</td>\n",
       "      <td>False</td>\n",
       "      <td>1</td>\n",
       "      <td>1</td>\n",
       "      <td>NaN</td>\n",
       "      <td>3</td>\n",
       "      <td>NaN</td>\n",
       "      <td>True</td>\n",
       "      <td>False</td>\n",
       "      <td>NaN</td>\n",
       "    </tr>\n",
       "    <tr>\n",
       "      <th>3</th>\n",
       "      <td>4</td>\n",
       "      <td>user 4</td>\n",
       "      <td>1</td>\n",
       "      <td>10.202498</td>\n",
       "      <td>3</td>\n",
       "      <td>url4</td>\n",
       "      <td>NaN</td>\n",
       "      <td>21:09:43</td>\n",
       "      <td>5:09:38</td>\n",
       "      <td>False</td>\n",
       "      <td>1</td>\n",
       "      <td>1</td>\n",
       "      <td>NaN</td>\n",
       "      <td>4</td>\n",
       "      <td>NaN</td>\n",
       "      <td>True</td>\n",
       "      <td>False</td>\n",
       "      <td>NaN</td>\n",
       "    </tr>\n",
       "    <tr>\n",
       "      <th>4</th>\n",
       "      <td>5</td>\n",
       "      <td>user 5</td>\n",
       "      <td>0</td>\n",
       "      <td>10.281144</td>\n",
       "      <td>1</td>\n",
       "      <td>url5</td>\n",
       "      <td>NaN</td>\n",
       "      <td>5:51:40</td>\n",
       "      <td>1:54:56</td>\n",
       "      <td>False</td>\n",
       "      <td>1</td>\n",
       "      <td>1</td>\n",
       "      <td>NaN</td>\n",
       "      <td>5</td>\n",
       "      <td>NaN</td>\n",
       "      <td>True</td>\n",
       "      <td>False</td>\n",
       "      <td>NaN</td>\n",
       "    </tr>\n",
       "  </tbody>\n",
       "</table>\n",
       "</div>"
      ],
      "text/plain": [
       "   id created_username  label  created_ago  task  data  meta created_at  \\\n",
       "0   1           user 1      0     0.849339     1  url1   NaN    2:59:34   \n",
       "1   2           user 2     -1     3.699334     2  url2   NaN   15:57:26   \n",
       "2   3           user 3     -1     4.648402     1  url3   NaN   21:33:25   \n",
       "3   4           user 4      1    10.202498     3  url4   NaN   21:09:43   \n",
       "4   5           user 5      0    10.281144     1  url5   NaN    5:51:40   \n",
       "\n",
       "  updated_at  is labeled  overlap  project  file_upload  completed_by  result  \\\n",
       "0    9:08:17       False        1        1          NaN             1     NaN   \n",
       "1    5:32:13       False        1        1          NaN             2     NaN   \n",
       "2   19:54:42       False        1        1          NaN             3     NaN   \n",
       "3    5:09:38       False        1        1          NaN             4     NaN   \n",
       "4    1:54:56       False        1        1          NaN             5     NaN   \n",
       "\n",
       "   was_cancelled  ground_true  parent_prediction  \n",
       "0           True        False                NaN  \n",
       "1           True        False                NaN  \n",
       "2           True        False                NaN  \n",
       "3           True        False                NaN  \n",
       "4           True        False                NaN  "
      ]
     },
     "execution_count": 52,
     "metadata": {},
     "output_type": "execute_result"
    }
   ],
   "source": [
    "# Importing dummy data from Local Host - dummy data can aslo be retrieved from Github project under \"data\"\n",
    "\n",
    "## ***Actual data to be retrieved from S3 after properly parsing has been performed***\n",
    "\n",
    "df = pd.read_csv(r\"C:\\Users\\PC\\Desktop\\dummy output.csv\")\n",
    "\n",
    "df.head()"
   ]
  },
  {
   "cell_type": "code",
   "execution_count": 53,
   "id": "d50c825b",
   "metadata": {},
   "outputs": [],
   "source": [
    "# Removing elements with neutral label (-1) from dataset\n",
    "dummy_output = df[df.label != -1]"
   ]
  },
  {
   "cell_type": "code",
   "execution_count": 54,
   "id": "afde26e7",
   "metadata": {},
   "outputs": [
    {
     "data": {
      "text/html": [
       "<div>\n",
       "<style scoped>\n",
       "    .dataframe tbody tr th:only-of-type {\n",
       "        vertical-align: middle;\n",
       "    }\n",
       "\n",
       "    .dataframe tbody tr th {\n",
       "        vertical-align: top;\n",
       "    }\n",
       "\n",
       "    .dataframe thead th {\n",
       "        text-align: right;\n",
       "    }\n",
       "</style>\n",
       "<table border=\"1\" class=\"dataframe\">\n",
       "  <thead>\n",
       "    <tr style=\"text-align: right;\">\n",
       "      <th></th>\n",
       "      <th>task</th>\n",
       "      <th>label</th>\n",
       "      <th>count</th>\n",
       "    </tr>\n",
       "  </thead>\n",
       "  <tbody>\n",
       "    <tr>\n",
       "      <th>0</th>\n",
       "      <td>1</td>\n",
       "      <td>0</td>\n",
       "      <td>9</td>\n",
       "    </tr>\n",
       "    <tr>\n",
       "      <th>1</th>\n",
       "      <td>1</td>\n",
       "      <td>1</td>\n",
       "      <td>14</td>\n",
       "    </tr>\n",
       "    <tr>\n",
       "      <th>2</th>\n",
       "      <td>2</td>\n",
       "      <td>0</td>\n",
       "      <td>13</td>\n",
       "    </tr>\n",
       "    <tr>\n",
       "      <th>3</th>\n",
       "      <td>2</td>\n",
       "      <td>1</td>\n",
       "      <td>13</td>\n",
       "    </tr>\n",
       "    <tr>\n",
       "      <th>4</th>\n",
       "      <td>3</td>\n",
       "      <td>0</td>\n",
       "      <td>7</td>\n",
       "    </tr>\n",
       "    <tr>\n",
       "      <th>5</th>\n",
       "      <td>3</td>\n",
       "      <td>1</td>\n",
       "      <td>11</td>\n",
       "    </tr>\n",
       "  </tbody>\n",
       "</table>\n",
       "</div>"
      ],
      "text/plain": [
       "   task  label  count\n",
       "0     1      0      9\n",
       "1     1      1     14\n",
       "2     2      0     13\n",
       "3     2      1     13\n",
       "4     3      0      7\n",
       "5     3      1     11"
      ]
     },
     "execution_count": 54,
     "metadata": {},
     "output_type": "execute_result"
    }
   ],
   "source": [
    "# Understanding the outputs\n",
    "\n",
    "grouped = dummy_output.groupby(['task','label'])[\"id\"].count().reset_index(name=\"count\")\n",
    "\n",
    "grouped"
   ]
  },
  {
   "cell_type": "code",
   "execution_count": 55,
   "id": "2a9ef7d0",
   "metadata": {},
   "outputs": [
    {
     "data": {
      "text/html": [
       "<div>\n",
       "<style scoped>\n",
       "    .dataframe tbody tr th:only-of-type {\n",
       "        vertical-align: middle;\n",
       "    }\n",
       "\n",
       "    .dataframe tbody tr th {\n",
       "        vertical-align: top;\n",
       "    }\n",
       "\n",
       "    .dataframe thead th {\n",
       "        text-align: right;\n",
       "    }\n",
       "</style>\n",
       "<table border=\"1\" class=\"dataframe\">\n",
       "  <thead>\n",
       "    <tr style=\"text-align: right;\">\n",
       "      <th></th>\n",
       "      <th>task</th>\n",
       "      <th>label</th>\n",
       "      <th>count</th>\n",
       "    </tr>\n",
       "  </thead>\n",
       "  <tbody>\n",
       "    <tr>\n",
       "      <th>3</th>\n",
       "      <td>2</td>\n",
       "      <td>1</td>\n",
       "      <td>13</td>\n",
       "    </tr>\n",
       "  </tbody>\n",
       "</table>\n",
       "</div>"
      ],
      "text/plain": [
       "   task  label  count\n",
       "3     2      1     13"
      ]
     },
     "execution_count": 55,
     "metadata": {},
     "output_type": "execute_result"
    }
   ],
   "source": [
    "# Evaluating outputs and determining if ties exists\n",
    "\n",
    "ties = grouped[grouped.duplicated(['task','count'])]\n",
    "ties"
   ]
  },
  {
   "cell_type": "code",
   "execution_count": 56,
   "id": "c237deaf",
   "metadata": {},
   "outputs": [
    {
     "data": {
      "text/plain": [
       "[[2, 1, 13]]"
      ]
     },
     "execution_count": 56,
     "metadata": {},
     "output_type": "execute_result"
    }
   ],
   "source": [
    "# Dataframe to list to automate prediction flow\n",
    "\n",
    "ties_tolist = ties.values.tolist()\n",
    "\n",
    "ties_tolist"
   ]
  },
  {
   "cell_type": "code",
   "execution_count": 57,
   "id": "8039594a",
   "metadata": {},
   "outputs": [],
   "source": [
    "# User defined function to retireve first element of list (task)\n",
    "\n",
    "def Extract(lst):\n",
    "    return [item[0] for item in lst]"
   ]
  },
  {
   "cell_type": "code",
   "execution_count": 58,
   "id": "7572dd2a",
   "metadata": {},
   "outputs": [
    {
     "data": {
      "text/plain": [
       "[2]"
      ]
     },
     "execution_count": 58,
     "metadata": {},
     "output_type": "execute_result"
    }
   ],
   "source": [
    "# Calling function to retrive first element of list(s)\n",
    "\n",
    "label_to_predict = Extract(ties_tolist)\n",
    "\n",
    "label_to_predict"
   ]
  },
  {
   "cell_type": "markdown",
   "id": "b6b34488",
   "metadata": {},
   "source": [
    "## ML Model Setup"
   ]
  },
  {
   "cell_type": "code",
   "execution_count": 59,
   "id": "1921ae5f",
   "metadata": {},
   "outputs": [],
   "source": [
    "# Random Forest ML Model Setup\n",
    "\n",
    "X = dummy_output[['task']]\n",
    "\n",
    "y = dummy_output[['label']]\n"
   ]
  },
  {
   "cell_type": "code",
   "execution_count": 60,
   "id": "6094f3e2",
   "metadata": {},
   "outputs": [],
   "source": [
    "# Split dataset into training set and test set\n",
    "\n",
    "X_train, X_test, y_train, y_test = train_test_split(X, y, test_size=0.3)"
   ]
  },
  {
   "cell_type": "code",
   "execution_count": 61,
   "id": "722ca7d9",
   "metadata": {},
   "outputs": [],
   "source": [
    "#Create a Gaussian Classifier\n",
    "clf=RandomForestClassifier()\n",
    "\n",
    "#Train the model using the training sets y_pred=clf.predict(X_test)\n",
    "clf.fit(X_train,y_train.values.ravel())\n",
    "\n",
    "y_pred=clf.predict(X_test)"
   ]
  },
  {
   "cell_type": "code",
   "execution_count": 62,
   "id": "19fecd86",
   "metadata": {},
   "outputs": [
    {
     "name": "stdout",
     "output_type": "stream",
     "text": [
      "Accuracy: 0.6190476190476191\n"
     ]
    }
   ],
   "source": [
    "# Model Accuracy, how often is the classifier correct?\n",
    "print(\"Accuracy:\",metrics.accuracy_score(y_test, y_pred))"
   ]
  },
  {
   "cell_type": "markdown",
   "id": "6019c416",
   "metadata": {},
   "source": [
    "## Making a Prediction"
   ]
  },
  {
   "cell_type": "code",
   "execution_count": 63,
   "id": "27351ef4",
   "metadata": {},
   "outputs": [],
   "source": [
    "# User defined function to evaluate if more than one tie requires a \n",
    "# new prediction or if only one value needs to be predicted\n",
    "\n",
    "def predict_next_value(x):\n",
    "    if any(isinstance(el, list) for el in x) == False:\n",
    "        return clf.predict([x])\n",
    "    else: \n",
    "        return clf.predict(x)\n",
    "    "
   ]
  },
  {
   "cell_type": "code",
   "execution_count": 64,
   "id": "8601e321",
   "metadata": {},
   "outputs": [
    {
     "data": {
      "text/plain": [
       "array([0], dtype=int64)"
      ]
     },
     "execution_count": 64,
     "metadata": {},
     "output_type": "execute_result"
    }
   ],
   "source": [
    "# Passing the list so the function can predict the next label\n",
    "predict_next_value(label_to_predict)"
   ]
  }
 ],
 "metadata": {
  "kernelspec": {
   "display_name": "Python 3",
   "language": "python",
   "name": "python3"
  },
  "language_info": {
   "codemirror_mode": {
    "name": "ipython",
    "version": 3
   },
   "file_extension": ".py",
   "mimetype": "text/x-python",
   "name": "python",
   "nbconvert_exporter": "python",
   "pygments_lexer": "ipython3",
   "version": "3.8.3"
  }
 },
 "nbformat": 4,
 "nbformat_minor": 5
}
